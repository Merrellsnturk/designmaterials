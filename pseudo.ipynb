{
  "nbformat": 4,
  "nbformat_minor": 0,
  "metadata": {
    "colab": {
      "provenance": [],
      "authorship_tag": "ABX9TyMDDlYs9+cy4rrlLS6zaj5z",
      "include_colab_link": true
    },
    "kernelspec": {
      "name": "python3",
      "display_name": "Python 3"
    },
    "language_info": {
      "name": "python"
    },
          "state": {
            "_dom_classes": [],
            "_model_module": "@jupyter-widgets/controls",
            "_model_module_version": "1.5.0",
            "_model_name": "TextareaModel",
            "_view_count": null,
            "_view_module": "@jupyter-widgets/controls",
            "_view_module_version": "1.5.0",
            "_view_name": "TextareaView",
            "continuous_update": true,
            "description": "p5.js Kodu:",
            "description_tooltip": null,
            "disabled": false,
            "layout": "IPY_MODEL_c904386d509b4249b2091b0cf5552baa",
            "placeholder": "​",
            "rows": null,
            "style": "IPY_MODEL_f1ff1cb1f0d940ec9fa13d9ea7e95d4b",
            "value": "fill(\"red\");\nellipse(200, 200, 100, 100);"
          }
        },
        "c904386d509b4249b2091b0cf5552baa": {
          "model_module": "@jupyter-widgets/base",
          "model_name": "LayoutModel",
          "model_module_version": "1.2.0",
          "state": {
            "_model_module": "@jupyter-widgets/base",
            "_model_module_version": "1.2.0",
            "_model_name": "LayoutModel",
            "_view_count": null,
            "_view_module": "@jupyter-widgets/base",
            "_view_module_version": "1.2.0",
            "_view_name": "LayoutView",
            "align_content": null,
            "align_items": null,
            "align_self": null,
            "border": null,
            "bottom": null,
            "display": null,
            "flex": null,
            "flex_flow": null,
            "grid_area": null,
            "grid_auto_columns": null,
            "grid_auto_flow": null,
            "grid_auto_rows": null,
            "grid_column": null,
            "grid_gap": null,
            "grid_row": null,
            "grid_template_areas": null,
            "grid_template_columns": null,
            "grid_template_rows": null,
            "height": "200px",
            "justify_content": null,
            "justify_items": null,
            "left": null,
            "margin": null,
            "max_height": null,
            "max_width": null,
            "min_height": null,
            "min_width": null,
            "object_fit": null,
            "object_position": null,
            "order": null,
            "overflow": null,
            "overflow_x": null,
            "overflow_y": null,
            "padding": null,
            "right": null,
            "top": null,
            "visibility": null,
            "width": "600px"
          }
        },
        "f1ff1cb1f0d940ec9fa13d9ea7e95d4b": {
          "model_module": "@jupyter-widgets/controls",
          "model_name": "DescriptionStyleModel",
          "model_module_version": "1.5.0",
          "state": {
            "_model_module": "@jupyter-widgets/controls",
            "_model_module_version": "1.5.0",
            "_model_name": "DescriptionStyleModel",
            "_view_count": null,
            "_view_module": "@jupyter-widgets/base",
            "_view_module_version": "1.2.0",
            "_view_name": "StyleView",
            "description_width": ""
          }
        },
        "d6f592ce82b747d4b56fe32829d10254": {
          "model_module": "@jupyter-widgets/controls",
          "model_name": "TextareaModel",
          "model_module_version": "1.5.0",
          "state": {
            "_dom_classes": [],
            "_model_module": "@jupyter-widgets/controls",
            "_model_module_version": "1.5.0",
            "_model_name": "TextareaModel",
            "_view_count": null,
            "_view_module": "@jupyter-widgets/controls",
            "_view_module_version": "1.5.0",
            "_view_name": "TextareaView",
            "continuous_update": true,
            "description": "Pseudo Kod:",
            "description_tooltip": null,
            "disabled": false,
            "layout": "IPY_MODEL_1034bd2ccea94c02b26f8541ae62870b",
            "placeholder": "​",
            "rows": null,
            "style": "IPY_MODEL_1292cf5807804e05953a430d4eda0d04",
            "value": "DAİRE ÇİZ 200 200 50"
          }
        },
        "1034bd2ccea94c02b26f8541ae62870b": {
          "model_module": "@jupyter-widgets/base",
          "model_name": "LayoutModel",
          "model_module_version": "1.2.0",
          "state": {
            "_model_module": "@jupyter-widgets/base",
            "_model_module_version": "1.2.0",
            "_model_name": "LayoutModel",
            "_view_count": null,
            "_view_module": "@jupyter-widgets/base",
            "_view_module_version": "1.2.0",
            "_view_name": "LayoutView",
            "align_content": null,
            "align_items": null,
            "align_self": null,
            "border": null,
            "bottom": null,
            "display": null,
            "flex": null,
            "flex_flow": null,
            "grid_area": null,
            "grid_auto_columns": null,
            "grid_auto_flow": null,
            "grid_auto_rows": null,
            "grid_column": null,
            "grid_gap": null,
            "grid_row": null,
            "grid_template_areas": null,
            "grid_template_columns": null,
            "grid_template_rows": null,
            "height": "200px",
            "justify_content": null,
            "justify_items": null,
            "left": null,
            "margin": null,
            "max_height": null,
            "max_width": null,
            "min_height": null,
            "min_width": null,
            "object_fit": null,
            "object_position": null,
            "order": null,
            "overflow": null,
            "overflow_x": null,
            "overflow_y": null,
            "padding": null,
            "right": null,
            "top": null,
            "visibility": null,
            "width": "600px"
          }
        },
        "1292cf5807804e05953a430d4eda0d04": {
          "model_module": "@jupyter-widgets/controls",
          "model_name": "DescriptionStyleModel",
          "model_module_version": "1.5.0",
          "state": {
            "_model_module": "@jupyter-widgets/controls",
            "_model_module_version": "1.5.0",
            "_model_name": "DescriptionStyleModel",
            "_view_count": null,
            "_view_module": "@jupyter-widgets/base",
            "_view_module_version": "1.2.0",
            "_view_name": "StyleView",
            "description_width": ""
          }
        }
      }
    }
  },
  "cells": [
    {
      "cell_type": "markdown",
      "metadata": {
        "id": "view-in-github",
        "colab_type": "text"
      },
      "source": [
        "<a href=\"https://colab.research.google.com/github/Merrellsnturk/designmaterials/blob/main/pseudo.ipynb\" target=\"_parent\"><img src=\"https://colab.research.google.com/assets/colab-badge.svg\" alt=\"Open In Colab\"/></a>"
      ]
    },
    {
      "cell_type": "code",
      "execution_count": 1,
      "metadata": {
        "colab": {
          "base_uri": "https://localhost:8080/",
          "height": 423,
          "referenced_widgets": [
            "94efdaa629db40be80b7938ae523e071",
            "c904386d509b4249b2091b0cf5552baa",
            "f1ff1cb1f0d940ec9fa13d9ea7e95d4b",
            "d6f592ce82b747d4b56fe32829d10254",
            "1034bd2ccea94c02b26f8541ae62870b",
            "1292cf5807804e05953a430d4eda0d04"
          ]
        },
        "id": "hPl_HYQzUlMj",
        "outputId": "9ae04692-a46b-45b3-bb71-4c424d578478"
      },
      "outputs": [
        {
          "output_type": "display_data",
          "data": {
            "text/plain": [
              "Textarea(value='fill(\"red\");\\nellipse(200, 200, 100, 100);', description='p5.js Kodu:', layout=Layout(height='…"
            ],
            "application/vnd.jupyter.widget-view+json": {
              "version_major": 2,
              "version_minor": 0,
              "model_id": "94efdaa629db40be80b7938ae523e071"
            }
          },
          "metadata": {}
        },
        {
          "output_type": "display_data",
          "data": {
            "text/plain": [
              "Textarea(value='', description='Pseudo Kod:', layout=Layout(height='200px', width='600px'))"
            ],
            "application/vnd.jupyter.widget-view+json": {
              "version_major": 2,
              "version_minor": 0,
              "model_id": "d6f592ce82b747d4b56fe32829d10254"
            }
          },
          "metadata": {}
        }
      ],
      "source": [
        "import re\n",
        "from IPython.display import display\n",
        "\n",
        "def p5js_to_pseudo(kod):\n",
        "    satirlar = kod.strip().split('\\n')\n",
        "    cikti = []\n",
        "\n",
        "    for satir in satirlar:\n",
        "        satir = satir.strip().rstrip(';')\n",
        "\n",
        "        if satir.startswith(\"fill(\"):\n",
        "            renk = re.findall(r\"'(.*?)'\", satir)\n",
        "            if renk:\n",
        "                cikti.append(f\"RENK AYARLA {renk[0]}\")\n",
        "        elif satir.startswith(\"ellipse(\"):\n",
        "            sayilar = re.findall(r'[\\d.]+', satir)\n",
        "            if len(sayilar) == 4:\n",
        "                x, y, w, h = map(int, sayilar)\n",
        "                r = w // 2\n",
        "                cikti.append(f\"DAİRE ÇİZ {x} {y} {r}\")\n",
        "        elif satir.startswith(\"rect(\"):\n",
        "            sayilar = re.findall(r'[\\d.]+', satir)\n",
        "            if len(sayilar) == 4:\n",
        "                x, y, w, h = sayilar\n",
        "                cikti.append(f\"DİKDÖRTGEN ÇİZ {x} {y} {w} {h}\")\n",
        "        elif satir.startswith(\"line(\"):\n",
        "            sayilar = re.findall(r'[\\d.]+', satir)\n",
        "            if len(sayilar) == 4:\n",
        "                x1, y1, x2, y2 = sayilar\n",
        "                cikti.append(f\"ÇİZGİ ÇİZ {x1} {y1} {x2} {y2}\")\n",
        "        elif satir.startswith(\"background(\"):\n",
        "            renk = re.findall(r\"'(.*?)'\", satir)\n",
        "            if renk:\n",
        "                cikti.append(f\"ARKA PLAN AYARLA {renk[0]}\")\n",
        "        elif satir.startswith(\"stroke(\"):\n",
        "            renk = re.findall(r\"'(.*?)'\", satir)\n",
        "            if renk:\n",
        "                cikti.append(f\"KENAR RENGİ AYARLA {renk[0]}\")\n",
        "        elif \"noStroke()\" in satir:\n",
        "            cikti.append(\"KENAR KAPAT\")\n",
        "        elif \"noFill()\" in satir:\n",
        "            cikti.append(\"DOLGU KAPAT\")\n",
        "        elif satir.startswith(\"text(\"):\n",
        "            metin = re.findall(r'\"(.*?)\"', satir)\n",
        "            sayilar = re.findall(r'[\\d.]+', satir)\n",
        "            if metin and len(sayilar) >= 2:\n",
        "                x, y = sayilar[0], sayilar[1]\n",
        "                cikti.append(f'YAZI YAZ \"{metin[0]}\" {x} {y}')\n",
        "        elif \"createCanvas\" in satir:\n",
        "            sayilar = re.findall(r'[\\d.]+', satir)\n",
        "            if len(sayilar) == 2:\n",
        "                cikti.append(f\"TUVALE GENİŞLİK AYARLA {sayilar[0]} {sayilar[1]}\")\n",
        "        elif \"textSize\" in satir:\n",
        "            sayi = re.findall(r'[\\d.]+', satir)\n",
        "            if sayi:\n",
        "                cikti.append(f\"METİN BOYUTU AYARLA {sayi[0]}\")\n",
        "        elif \"random(width)\" in satir:\n",
        "            cikti.append(\"RASTGELE X AYARLA\")\n",
        "        elif \"random(height)\" in satir:\n",
        "            cikti.append(\"RASTGELE Y AYARLA\")\n",
        "        else:\n",
        "            cikti.append(f\"// Tanınmayan kod: {satir}\")\n",
        "\n",
        "    return \"\\n\".join(cikti)\n",
        "\n",
        "# Arayüz (yalnızca p5.js → Pseudo)\n",
        "giris = widgets.Textarea(\n",
        "    value='fill(\"red\");\\nellipse(200, 200, 100, 100);',\n",
        "    description='p5.js Kodu:',\n",
        "    layout=widgets.Layout(width='600px', height='200px')\n",
        ")\n",
        "\n",
        "cikis = widgets.Textarea(\n",
        "    value='',\n",
        "    description='Pseudo Kod:',\n",
        "    layout=widgets.Layout(width='600px', height='200px')\n",
        ")\n",
        "\n",
        "def cevir(change=None):\n",
        "    cikis.value = p5js_to_pseudo(giris.value)\n",
        "\n",
        "giris.observe(cevir, names='value')\n",
        "\n",
        "display(giris, cikis)\n",
        "cevir()\n"
      ]
    }
  ]
}
